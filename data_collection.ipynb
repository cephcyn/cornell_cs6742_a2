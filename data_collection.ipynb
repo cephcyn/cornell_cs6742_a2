{
 "cells": [
  {
   "cell_type": "code",
   "execution_count": null,
   "id": "4c602396-cfaa-4840-8ad4-4128621b210a",
   "metadata": {},
   "outputs": [],
   "source": [
    "import urllib.request\n",
    "import json\n",
    "import pandas as pd\n",
    "import numpy as np\n",
    "import time\n",
    "from datetime import datetime, date\n",
    "import argparse\n",
    "\n",
    "pd.options.display.max_columns = None\n",
    "\n",
    "def scrape_subreddit(subreddit_name, scrape_year):\n",
    "    # checkpoint output\n",
    "    print(f'scraping subreddit: {subreddit_name}')\n",
    "    print(f'    data from year: {scrape_year}')\n",
    "    print(f' scrape START time: {time.strftime(\"%Y%m%d-%H%M%S\", time.localtime())}')\n",
    "    t0 = time.process_time()\n",
    "    scrape_begin = datetime(scrape_year, 1, 1)\n",
    "    scrape_end = datetime(scrape_year+1, 1, 1)\n",
    "    \n",
    "    # do the submissions scrape\n",
    "    with urllib.request.urlopen(\n",
    "        f'https://api.pushshift.io/reddit/search/submission/'\n",
    "        +f'?subreddit={subreddit_name}&after={int(scrape_begin.timestamp())}&before={int(scrape_end.timestamp())}'\n",
    "    ) as url:\n",
    "        data = json.loads(url.read().decode())\n",
    "    data = data['data']\n",
    "    df_sub = pd.DataFrame.from_dict(pd.json_normalize(data), orient='columns')\n",
    "    \n",
    "    # checkpoint output\n",
    "    print(f' == submissions collected, starting comments')\n",
    "    print(f'           at time: {time.strftime(\"%Y%m%d-%H%M%S\", time.localtime())}')\n",
    "    print(f'   so-far DURATION: {time.process_time() - t0}')\n",
    "    \n",
    "    # do the comments ID scrape\n",
    "    def get_comment_ids(sub_id):\n",
    "        with urllib.request.urlopen(\n",
    "            f'https://api.pushshift.io/reddit/submission/comment_ids/{sub_id}'\n",
    "        ) as url:\n",
    "            data = json.loads(url.read().decode())\n",
    "        print(sub_id)\n",
    "        return data['data']\n",
    "    df_sub['comments'] = [get_comment_ids(x) for x in df_sub['id']]\n",
    "    \n",
    "    # checkpoint output\n",
    "    print(f' == comments collected, starting comment detail')\n",
    "    print(f'           at time: {time.strftime(\"%Y%m%d-%H%M%S\", time.localtime())}')\n",
    "    print(f'   so-far DURATION: {time.process_time() - t0}')\n",
    "    \n",
    "    # do the comments scrape\n",
    "    df_comm = pd.DataFrame()\n",
    "    for comment_id_list in df_sub['comments']:\n",
    "        print(comment_id_list)\n",
    "        with urllib.request.urlopen(\n",
    "            f'https://api.pushshift.io/reddit/search/comment/?ids={\",\".join(comment_id_list)}'\n",
    "        ) as url:\n",
    "            data = json.loads(url.read().decode())\n",
    "        df_comm = df_comm.append(pd.DataFrame.from_dict(pd.json_normalize(data['data'])))\n",
    "            \n",
    "    # checkpoint output\n",
    "    print(f'   scrape END time: {time.strftime(\"%Y%m%d-%H%M%S\", time.localtime())}')\n",
    "    print(f'    total DURATION: {time.process_time() - t0}')\n",
    "    \n",
    "    return df_sub, df_comm"
   ]
  },
  {
   "cell_type": "code",
   "execution_count": null,
   "id": "57cd7aee-8f5f-4ce2-8c0c-1738b73af8de",
   "metadata": {},
   "outputs": [],
   "source": [
    "df_sub, df_comm = scrape_subreddit('PaidForWinRAR', 2017)"
   ]
  },
  {
   "cell_type": "code",
   "execution_count": null,
   "id": "9850679a-121e-4b29-bc07-4db9ea4523f6",
   "metadata": {},
   "outputs": [],
   "source": [
    "df_sub"
   ]
  },
  {
   "cell_type": "code",
   "execution_count": null,
   "id": "884b8f87-1fd4-490b-aaab-1da3c260d41d",
   "metadata": {},
   "outputs": [],
   "source": [
    "df_comm"
   ]
  },
  {
   "cell_type": "code",
   "execution_count": null,
   "id": "914f2394-0fb1-4ed3-a920-765dcf4d0cec",
   "metadata": {},
   "outputs": [],
   "source": []
  }
 ],
 "metadata": {
  "kernelspec": {
   "display_name": "Python 3 (ipykernel)",
   "language": "python",
   "name": "python3"
  },
  "language_info": {
   "codemirror_mode": {
    "name": "ipython",
    "version": 3
   },
   "file_extension": ".py",
   "mimetype": "text/x-python",
   "name": "python",
   "nbconvert_exporter": "python",
   "pygments_lexer": "ipython3",
   "version": "3.9.7"
  }
 },
 "nbformat": 4,
 "nbformat_minor": 5
}
