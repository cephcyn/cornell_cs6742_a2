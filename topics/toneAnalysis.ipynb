{
 "cells": [
  {
   "cell_type": "markdown",
   "id": "900bacd9",
   "metadata": {},
   "source": [
    "# Tone Analysis\n",
    "Purpose: Determine the tone by looking at concreteness, valence, arousal, and dominance. This program is broken into two parts- one for combining the wordlists and the other for performing the calculation.\n",
    "\n",
    "<br> Concreteness: measures tangibility \n",
    "<br> Valence: measures pleasantness \n",
    "<br> Arousal: measures intensity\n",
    "<br> Dominance: measure degree of control\n"
   ]
  },
  {
   "cell_type": "markdown",
   "id": "ea98269f",
   "metadata": {},
   "source": [
    "## Part I- Combining the wordlists\n",
    "\n",
    "Some words in the concreteness wordlist are not in the valence, arousal, and dominance wordlist (and vice versa). For this tone analysis, we are only interested in words with all four dimensions."
   ]
  },
  {
   "cell_type": "code",
   "execution_count": 1,
   "id": "e7397b7c",
   "metadata": {},
   "outputs": [],
   "source": [
    "#Imports\n",
    "import pandas as pd\n",
    "from functools import reduce\n",
    "import numpy as np\n",
    "from nltk.tokenize import word_tokenize\n",
    "import json\n",
    "import csv\n",
    "from mpl_toolkits.mplot3d import Axes3D\n",
    "import matplotlib.pyplot as plt"
   ]
  },
  {
   "cell_type": "code",
   "execution_count": 2,
   "id": "20496b98",
   "metadata": {},
   "outputs": [
    {
     "data": {
      "text/plain": [
       "'#Removing unncessary columns from concrete wordlist\\ndf1 = pd.read_table(\\'WordList_Concrete.csv\\', sep=\\',\\')\\ndf1 = df1.drop(columns=[\\'Bigram\\', \\'Unknown\\',\\'Total\\',\\'SUBTLEX\\'])\\n\\n#Removing unncessary columns from valence,arousal, dominance wordlist\\ndf2 = pd.read_table(\\'WordList_Valence_Arousal_Dominance.csv\\', sep=\\',\\')\\ndf2 = df2.iloc[:, 0:11]\\ndf2 = df2.drop(columns=[\\'V.Rat.Sum\\', \\'A.Rat.Sum\\',\\'D.Rat.Sum\\'])\\n\\n#Combining dataframes\\ndataFrame = [df1,df2]\\ndf_merged = reduce(lambda  left,right: pd.merge(left,right,on=[\\'Word\\'],\\n                                            how=\\'outer\\'), dataFrame)\\n#Removing blank values and number column\\ndf_merged = df_merged.replace(\\'.\\', np.nan)\\ndf_merged = df_merged.dropna()\\ndf_merged = df_merged.drop(columns=[\\'Unnamed: 0\\'])\\npd.DataFrame.to_csv(df_merged, \\'merged.csv\\', sep=\\',\\', na_rep=\\'.\\', index=False)\\n\\n#Creating a dictionary with the tone data for each word\\ndictionary = {}\\nredditData = pd.read_csv(\\'merged.csv\\')\\nfor index, row in redditData.iterrows():\\n    dictionary[row[\\'Word\\']] = [row[\\'Conc.M\\'],row[\\'V.Mean.Sum\\'],row[\\'A.Mean.Sum\\'],row[\\'D.Mean.Sum\\']]\\n\\n#writing results to a file\\nwith open(\"dictionary.txt\", \"w\") as outfile:\\n    json.dump(dictionary, outfile)'"
      ]
     },
     "execution_count": 2,
     "metadata": {},
     "output_type": "execute_result"
    }
   ],
   "source": [
    "\"\"\"#Removing unncessary columns from concrete wordlist\n",
    "df1 = pd.read_table('WordList_Concrete.csv', sep=',')\n",
    "df1 = df1.drop(columns=['Bigram', 'Unknown','Total','SUBTLEX'])\n",
    "\n",
    "#Removing unncessary columns from valence,arousal, dominance wordlist\n",
    "df2 = pd.read_table('WordList_Valence_Arousal_Dominance.csv', sep=',')\n",
    "df2 = df2.iloc[:, 0:11]\n",
    "df2 = df2.drop(columns=['V.Rat.Sum', 'A.Rat.Sum','D.Rat.Sum'])\n",
    "\n",
    "#Combining dataframes\n",
    "dataFrame = [df1,df2]\n",
    "df_merged = reduce(lambda  left,right: pd.merge(left,right,on=['Word'],\n",
    "                                            how='outer'), dataFrame)\n",
    "#Removing blank values and number column\n",
    "df_merged = df_merged.replace('.', np.nan)\n",
    "df_merged = df_merged.dropna()\n",
    "df_merged = df_merged.drop(columns=['Unnamed: 0'])\n",
    "pd.DataFrame.to_csv(df_merged, 'merged.csv', sep=',', na_rep='.', index=False)\n",
    "\n",
    "#Creating a dictionary with the tone data for each word\n",
    "dictionary = {}\n",
    "redditData = pd.read_csv('merged.csv')\n",
    "for index, row in redditData.iterrows():\n",
    "    dictionary[row['Word']] = [row['Conc.M'],row['V.Mean.Sum'],row['A.Mean.Sum'],row['D.Mean.Sum']]\n",
    "\n",
    "#writing results to a file\n",
    "with open(\"dictionary.txt\", \"w\") as outfile:\n",
    "    json.dump(dictionary, outfile)\"\"\""
   ]
  },
  {
   "cell_type": "code",
   "execution_count": 3,
   "id": "21911776",
   "metadata": {},
   "outputs": [],
   "source": [
    "#returns a dictionary from a file\n",
    "def getDict(file):\n",
    "    # reading the data from the file\n",
    "    with open(file) as f:\n",
    "        data = f.read()\n",
    "\n",
    "     # closing the file\n",
    "    f.close()\n",
    "\n",
    "    # naming dictionary\n",
    "    dict = json.loads(data)\n",
    "\n",
    "    return dict"
   ]
  },
  {
   "cell_type": "markdown",
   "id": "6ae84fad",
   "metadata": {},
   "source": [
    "## Part II- Determining tone per post\n",
    "\n",
    "Some words in the concreteness wordlist are not in the valence, arousal, and dominance wordlist (and vice versa). For this tone analysis, we are only interested in words with all four dimensions."
   ]
  },
  {
   "cell_type": "code",
   "execution_count": 4,
   "id": "eada4d59",
   "metadata": {},
   "outputs": [],
   "source": [
    "#stop words for filtering\n",
    "stop_words = set(line.strip() for line in open('Stopwords.txt'))"
   ]
  },
  {
   "cell_type": "code",
   "execution_count": 5,
   "id": "fbd68923",
   "metadata": {},
   "outputs": [],
   "source": [
    "#tokenizes post\n",
    "def sentence_filter(redditData):\n",
    "    word_tokens = word_tokenize(redditData)\n",
    "    filtered_sentence = [w for w in word_tokens if not w.lower() in stop_words]\n",
    "    filtered_sentence = []\n",
    "\n",
    "    for word in redditData.lower().split():\n",
    "        word = word.replace(\".\", \"\")\n",
    "        word = word.replace(\",\", \"\")\n",
    "        word = word.replace(\":\", \"\")\n",
    "        word = word.replace(\"\\\"\", \"\")\n",
    "        word = word.replace(\"!\", \"\")\n",
    "        word = word.replace(\"â€œ\", \"\")\n",
    "        word = word.replace(\"â€˜\", \"\")\n",
    "        word = word.replace(\"*\", \"\")\n",
    "        word = word.replace(\"(\", \"\")\n",
    "        word = word.replace(\")\", \"\")\n",
    "        word = word.replace(\"?\", \"\")\n",
    "        if word not in stop_words:\n",
    "            filtered_sentence.append(word)\n",
    "    return filtered_sentence"
   ]
  },
  {
   "cell_type": "code",
   "execution_count": 6,
   "id": "fef20886",
   "metadata": {},
   "outputs": [],
   "source": [
    "#returns vector of avg concrete, valence, arousal, and dominance for each post\n",
    "def word_vector(filtered_sentence):\n",
    "    d = 0\n",
    "    c = 0\n",
    "    a = 0\n",
    "    v = 0\n",
    "    count = 0\n",
    "    for word in filtered_sentence:\n",
    "        try:\n",
    "            word_score = dictionary[word]\n",
    "            # as a percentage\n",
    "            c += word_score[0] / 5\n",
    "            v += word_score[1] / 9\n",
    "            a += word_score[2] / 9\n",
    "            d += word_score[3] / 9\n",
    "            count += 1\n",
    "        except KeyError:\n",
    "            count+=1\n",
    "            continue\n",
    "\n",
    "    #dividing by total words in post\n",
    "    if d > 0:\n",
    "        d = d / count\n",
    "        a = a / count\n",
    "        v = v / count\n",
    "        c = c/ count\n",
    "        return c,v,a,d\n",
    "\n",
    "    else:\n",
    "        return 0,0,0,0"
   ]
  },
  {
   "cell_type": "code",
   "execution_count": 8,
   "id": "9ba91bf7",
   "metadata": {},
   "outputs": [
    {
     "data": {
      "image/png": "[encoded data removed]",
      "text/plain": [
       "<Figure size 432x288 with 2 Axes>"
      ]
     },
     "metadata": {
      "needs_background": "light"
     },
     "output_type": "display_data"
    }
   ],
   "source": [
    "#Performing the analysis\n",
    "dictionary = getDict(\"dictionary.txt\")\n",
    "concrete = []\n",
    "valence = []\n",
    "arousal = []\n",
    "dominance = []\n",
    "redditData = pd.read_csv('2018_posts_revised.csv')\n",
    "\n",
    "#Determining score for each post\n",
    "for i,row in redditData.iterrows():\n",
    "    words = filter(row['selftext'])\n",
    "    c,v,a,d = word_vector(words)\n",
    "    concrete.append(c)\n",
    "    valence.append(v)\n",
    "    arousal.append(a)\n",
    "    dominance.append(d)\n",
    "\n",
    "redditData['concrete'] = concrete\n",
    "redditData['valence'] = valence\n",
    "redditData['arousal'] = arousal\n",
    "redditData['dominance'] = dominance\n",
    "\n",
    "#Creating csv with the additional data\n",
    "redditData.to_csv('2018_posts_tone.csv')\n",
    "\n",
    "#Plotting results\n",
    "redditData = pd.read_csv('2018_posts_tone.csv')\n",
    "fig = plt.figure()\n",
    "ax = fig.add_subplot(111, projection='3d')\n",
    "ax.set_xlabel('Concrete')\n",
    "ax.set_ylabel('Valence')\n",
    "ax.set_zlabel('Arousal')\n",
    "img=ax.scatter(redditData['concrete'],redditData['valence'],redditData['arousal'], c=redditData['dominance'], cmap=plt.hot())\n",
    "fig.colorbar(img, pad=0.2)\n",
    "plt.show()"
   ]
  },
  {
   "cell_type": "code",
   "execution_count": null,
   "id": "d93617c5",
   "metadata": {},
   "outputs": [],
   "source": []
  }
 ],
 "metadata": {
  "kernelspec": {
   "display_name": "Python 3",
   "language": "python",
   "name": "python3"
  },
  "language_info": {
   "codemirror_mode": {
    "name": "ipython",
    "version": 3
   },
   "file_extension": ".py",
   "mimetype": "text/x-python",
   "name": "python",
   "nbconvert_exporter": "python",
   "pygments_lexer": "ipython3",
   "version": "3.8.8"
  }
 },
 "nbformat": 4,
 "nbformat_minor": 5
}
