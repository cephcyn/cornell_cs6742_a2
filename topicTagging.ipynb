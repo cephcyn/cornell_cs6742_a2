{
 "cells": [
  {
   "cell_type": "markdown",
   "id": "5f5bffbe",
   "metadata": {},
   "source": [
    "# Topic Tags\n",
    "\n",
    "Purpose: label each post in the dataset with a topic tag\n",
    "<br>Note: This program uses the results of topicModeling.py It assumes that the file being read has been cleaned for punctuation, stopwords, numbers, etc... (see cleaning function in topicModeling.py)."
   ]
  },
  {
   "cell_type": "code",
   "execution_count": 17,
   "id": "664a23ad",
   "metadata": {},
   "outputs": [],
   "source": [
    "#import\n",
    "import numpy as np\n",
    "import pandas as pd\n",
    "import matplotlib.pyplot as plt\n",
    "import json"
   ]
  },
  {
   "cell_type": "code",
   "execution_count": 18,
   "id": "1bdc7011",
   "metadata": {},
   "outputs": [],
   "source": [
    "#Dictionaries per topic- results of topicModeling.py in dictionary format\n",
    "Topic1= {\"mom\": 3910.2, \"year\": 3601.2, \"time\": 3440.9, \"go\": 3245.0, \"want\": 3180.5, \"would\": 3072.0, \"famili\": 2832.0, \"sister\": 2721.7, \"dad\": 2601.6, \"get\": 2559.1}\n",
    "Topic2= {\"work\": 7136.5, \"time\": 3552.6, \"get\": 3303.7, \"would\": 2987.8, \"day\": 2847.5, \"amp\": 2278.3, \"job\": 2253.6, \"ask\": 2204.4, \"go\": 2107.7, \"#xb\": 2016.4}\n",
    "Topic3= {\"room\": 2308.8, \"get\": 2152.4, \"would\": 1965.7, \"use\": 1674.7, \"one\": 1640.6, \"ask\": 1549.7, \"back\": 1362.5, \"time\": 1331.1, \"roommat\": 1265.1, \"peopl\": 1210.2}\n",
    "Topic4={\"dog\": 3417.4, \"car\": 2513.4, \"get\": 1665.5, \"cat\": 1372.7, \"walk\": 1210.2, \"drive\": 1171.9, \"go\": 1022.1, \"back\": 939.7, \"home\": 900.5, \"park\": 875.2}\n",
    "Topic5= {\"money\": 3600.9, \"want\": 3110.9, \"pay\": 2700.8, \"famili\": 2647.6, \"would\": 2646.9, \"year\": 2637.5, \"get\": 2254.7, \"go\": 1734.9, \"parent\": 1566.4, \"make\": 1454.3}\n",
    "Topic6= {\"friend\": 11879.3, \"feel\": 6032.6, \"talk\": 5696.8, \"would\": 5511.3, \"want\": 4883.5, \"time\": 4391.1, \"realli\": 4361.1, \"thing\": 3860.9, \"know\": 3776.4, \"year\": 3390.1}\n",
    "Topic7= {\"kid\": 1901.9, \"said\": 1602.3, \"school\": 1530.4, \"say\": 1054.8, \"get\": 1053.0, \"call\": 1001.0, \"back\": 966.2, \"one\": 935.0, \"start\": 933.2, \"class\": 907.9}"
   ]
  },
  {
   "cell_type": "code",
   "execution_count": 19,
   "id": "7037ff7b",
   "metadata": {},
   "outputs": [],
   "source": [
    "#Converts arguments to the corresponding dictionary\n",
    "def getDict(argument):\n",
    "    switcher = {\n",
    "        1: Topic1,\n",
    "        2: Topic2,\n",
    "        3: Topic3,\n",
    "        4: Topic4,\n",
    "        5: Topic5,\n",
    "        6: Topic6,\n",
    "        7: Topic7,\n",
    "           }\n",
    "    return switcher.get(argument, \"nothing\")"
   ]
  },
  {
   "cell_type": "code",
   "execution_count": 20,
   "id": "b99ea162",
   "metadata": {},
   "outputs": [],
   "source": [
    "#Converts arguments to the corresponding tag\n",
    "def getTag(argument):\n",
    "    switcher = {\n",
    "        1: \"family\",\n",
    "        2: \"work\",\n",
    "        3: \"housing\",\n",
    "        4: \"pets\",\n",
    "        5: \"money\",\n",
    "        6: \"relationships\",\n",
    "        7: \"school\",\n",
    "           }\n",
    "    return switcher.get(argument, \"nothing\")"
   ]
  },
  {
   "cell_type": "code",
   "execution_count": 21,
   "id": "0cb2c153",
   "metadata": {},
   "outputs": [],
   "source": [
    "#Determines the score of the post depending on the topic dictionary\n",
    "def topic_score(redditData, topic_num):\n",
    "    dictionary = getDict(topic_num)\n",
    "    score = 0\n",
    "    if type(redditData) == float:\n",
    "        return 0\n",
    "    else:\n",
    "        for word in redditData.lower().split():\n",
    "            try:\n",
    "                score += dictionary[word]\n",
    "            except KeyError:\n",
    "                continue\n",
    "        return score"
   ]
  },
  {
   "cell_type": "code",
   "execution_count": 22,
   "id": "1148ca02",
   "metadata": {},
   "outputs": [],
   "source": [
    "#Iterates through csv and labels posts with tag\n",
    "def csv_with_tags(infile):\n",
    "    list_of_tags = []\n",
    "    list_of_numerical_tags = []\n",
    "    topics = pd.read_csv(infile)\n",
    "    text = list(topics['clean_posts'])\n",
    "    \n",
    "    #Determining all the scores for each post\n",
    "    for i in range(len(text)):\n",
    "        scores = [topic_score(text[i], 1), topic_score(text[i], 2), topic_score(text[i], 3), topic_score(text[i], 4), topic_score(text[i], 5),\n",
    "                  topic_score(text[i], 6), topic_score(text[i], 7)]\n",
    "        \n",
    "        #Greatest score is the most likely topic\n",
    "        tag = scores.index(max(scores))\n",
    "        \n",
    "        #Adding numerical and word tag\n",
    "        tag_text = getTag((tag+1))\n",
    "        list_of_tags.append(tag_text)\n",
    "        list_of_numerical_tags.append(tag+1)\n",
    "        \n",
    "    topics['tags'] = list_of_tags\n",
    "    topics['tags_number'] = list_of_numerical_tags\n",
    "    return topics"
   ]
  },
  {
   "cell_type": "code",
   "execution_count": 26,
   "id": "937e46a0",
   "metadata": {},
   "outputs": [
    {
     "name": "stdout",
     "output_type": "stream",
     "text": [
      "   Unnamed: 0                                           selftext  \\\n",
      "0           3  So I'd been dating my girlfriend since Septemb...   \n",
      "1           4  Mum has told me that her husband wants to star...   \n",
      "2           6  \\nAITA for telling a guy who was dancing with ...   \n",
      "3           8  So I'm working for a privately owned company w...   \n",
      "4           9  I tried with this woman for a few months and s...   \n",
      "\n",
      "            tags  tags_number  \n",
      "0  relationships            6  \n",
      "1         family            1  \n",
      "2  relationships            6  \n",
      "3           work            2  \n",
      "4  relationships            6  \n"
     ]
    }
   ],
   "source": [
    "topics = csv_with_tags('2018_posts_revised.csv')\n",
    "topics = topics.drop(columns=['clean_posts'])\n",
    "print(topics[:5])"
   ]
  },
  {
   "cell_type": "code",
   "execution_count": null,
   "id": "db089211",
   "metadata": {},
   "outputs": [],
   "source": []
  }
 ],
 "metadata": {
  "kernelspec": {
   "display_name": "Python 3",
   "language": "python",
   "name": "python3"
  },
  "language_info": {
   "codemirror_mode": {
    "name": "ipython",
    "version": 3
   },
   "file_extension": ".py",
   "mimetype": "text/x-python",
   "name": "python",
   "nbconvert_exporter": "python",
   "pygments_lexer": "ipython3",
   "version": "3.8.8"
  }
 },
 "nbformat": 4,
 "nbformat_minor": 5
}
