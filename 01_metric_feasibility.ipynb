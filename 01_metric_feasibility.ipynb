{
 "cells": [
  {
   "cell_type": "code",
   "execution_count": null,
   "id": "bc3238d7-2d25-4400-a82a-0557c14ddce3",
   "metadata": {},
   "outputs": [],
   "source": [
    "import pandas as pd"
   ]
  },
  {
   "cell_type": "code",
   "execution_count": null,
   "id": "f81bbce8-dbea-4d5e-b49c-4dcdfee7a062",
   "metadata": {},
   "outputs": [],
   "source": [
    "# # Read from CSV\n",
    "# posts_df = pd.read_csv(\"2018_posts.csv\")\n",
    "# comms_df = pd.read_csv(\"2018_comments.csv\")\n",
    "\n",
    "# Read from PKL\n",
    "posts_df = pd.read_pickle(\"2018_posts.pkl\")\n",
    "comms_df = pd.read_pickle(\"2018_comments.pkl\")\n",
    "\n",
    "print(posts_df.shape, comms_df.shape)"
   ]
  },
  {
   "cell_type": "code",
   "execution_count": null,
   "id": "6e470c68-f246-4287-ae2d-d3143dbd7001",
   "metadata": {},
   "outputs": [],
   "source": []
  }
 ],
 "metadata": {
  "kernelspec": {
   "display_name": "Python 3 (ipykernel)",
   "language": "python",
   "name": "python3"
  },
  "language_info": {
   "codemirror_mode": {
    "name": "ipython",
    "version": 3
   },
   "file_extension": ".py",
   "mimetype": "text/x-python",
   "name": "python",
   "nbconvert_exporter": "python",
   "pygments_lexer": "ipython3",
   "version": "3.9.7"
  }
 },
 "nbformat": 4,
 "nbformat_minor": 5
}
