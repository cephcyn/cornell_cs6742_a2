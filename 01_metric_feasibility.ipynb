{
 "cells": [
  {
   "cell_type": "code",
   "execution_count": null,
   "id": "f81bbce8-dbea-4d5e-b49c-4dcdfee7a062",
   "metadata": {},
   "outputs": [],
   "source": [
    "import pandas as pd\n",
    "\n",
    "pd.set_option('max_columns', None)"
   ]
  },
  {
   "cell_type": "code",
   "execution_count": null,
   "id": "63837d43-8017-4c3e-92dd-bd3ecbf0e24d",
   "metadata": {},
   "outputs": [],
   "source": [
    "# Read from CSV\n",
    "posts_df = pd.read_csv(\"2018_posts.csv\")\n",
    "comms_df = pd.read_csv(\"2018_comments.csv\")\n",
    "\n",
    "# # Read from PKL\n",
    "# posts_df = pd.read_pickle(\"2018_posts.pkl\")\n",
    "# comms_df = pd.read_pickle(\"2018_comments.pkl\")\n",
    "\n",
    "print(posts_df.shape, comms_df.shape)"
   ]
  },
  {
   "cell_type": "code",
   "execution_count": null,
   "id": "5ffa9a00-52f6-40ea-8e60-5ab554dbb4e1",
   "metadata": {},
   "outputs": [],
   "source": [
    "posts_df[:2]"
   ]
  },
  {
   "cell_type": "code",
   "execution_count": null,
   "id": "03720abc-5402-49bb-91de-73c19874f741",
   "metadata": {},
   "outputs": [],
   "source": [
    "comms_df[:2]"
   ]
  },
  {
   "cell_type": "code",
   "execution_count": null,
   "id": "296261c3-9d2e-47ac-8ed9-fed1442c7eb4",
   "metadata": {},
   "outputs": [],
   "source": [
    "import networkx as nx\n",
    "\n",
    "gAll = {}\n",
    "\n",
    "for _, post in posts_df[3:6].iterrows():\n",
    "    g = nx.DiGraph()\n",
    "    post_id = post['id']\n",
    "    userResponders = {}\n",
    "    for _, comment in comms_df[comms_df['link_id']==f't3_{post_id}'].iterrows():\n",
    "        parentID = comment['parent_id']\n",
    "        currentID = 't1_'+comment['id']\n",
    "        author = comment['author']\n",
    "        g.add_edge(parentID, currentID)\n",
    "        g.nodes[currentID]['author'] = author\n",
    "        if author not in userResponders:\n",
    "            userResponders[author] = []\n",
    "        userResponders[author].append(currentID)    \n",
    "    gAll[f't3_{post_id}'] = {\n",
    "        'post_graph': g,\n",
    "        'user_op': post['author'],\n",
    "        'user_responders': userResponders,\n",
    "    }"
   ]
  },
  {
   "cell_type": "code",
   "execution_count": null,
   "id": "010943ef-0248-4fad-8926-d10aaf3210bc",
   "metadata": {},
   "outputs": [],
   "source": [
    "# test out the graph building\n",
    "postID = list(gAll.keys())[0]\n",
    "postG = gAll[postID]['post_graph']\n",
    "# print(postG.nodes.data())\n",
    "nx.draw_kamada_kawai(\n",
    "    postG, \n",
    "#     node_color=[\n",
    "#         d['comment_author'] if 'comment_author' in d else gAll[postID]['user_op']\n",
    "#         for (n,d) in postG.nodes.data()\n",
    "#     ]\n",
    ")\n",
    "print(postID)\n",
    "print(gAll[postID]['user_op'])\n",
    "print(gAll[postID]['user_responders'])"
   ]
  },
  {
   "cell_type": "code",
   "execution_count": null,
   "id": "f2196027-4431-4607-b177-bbfd68000d57",
   "metadata": {},
   "outputs": [],
   "source": []
  }
 ],
 "metadata": {
  "kernelspec": {
   "display_name": "Python 3 (ipykernel)",
   "language": "python",
   "name": "python3"
  },
  "language_info": {
   "codemirror_mode": {
    "name": "ipython",
    "version": 3
   },
   "file_extension": ".py",
   "mimetype": "text/x-python",
   "name": "python",
   "nbconvert_exporter": "python",
   "pygments_lexer": "ipython3",
   "version": "3.9.7"
  }
 },
 "nbformat": 4,
 "nbformat_minor": 5
}
