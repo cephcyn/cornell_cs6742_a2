{
 "cells": [
  {
   "cell_type": "markdown",
   "id": "c868984d",
   "metadata": {},
   "source": [
    "# Feasibility Test\n",
    "\n",
    "Dataset: r/aita in 2018 and 2019\n",
    "<br>Purpose: Determine if there is enough comment data (number of comments and length of comments) to characterize a buzzy user"
   ]
  },
  {
   "cell_type": "code",
   "execution_count": 17,
   "id": "8559dbcb",
   "metadata": {},
   "outputs": [],
   "source": [
    "#imports\n",
    "import numpy as np\n",
    "import pandas as pd\n",
    "import csv\n",
    "import matplotlib.pyplot as plt"
   ]
  },
  {
   "cell_type": "code",
   "execution_count": 18,
   "id": "54581e56",
   "metadata": {},
   "outputs": [],
   "source": [
    "#Determines average number of comments in a post\n",
    "def commentAverage(file):\n",
    "    redditData = pd.read_csv(file)\n",
    "    comments = redditData['num_comments']\n",
    "    avg = comments.mean()\n",
    "    return avg"
   ]
  },
  {
   "cell_type": "code",
   "execution_count": 19,
   "id": "8704ffa6",
   "metadata": {},
   "outputs": [],
   "source": [
    "#Plots number of words in a comment\n",
    "def commentHistogram(file,year):\n",
    "    redditData = pd.read_csv(file)\n",
    "    comments = redditData['body']\n",
    "    wordCount = []\n",
    "\n",
    "    #Determinging number of words in each comment\n",
    "    for i,row in comments.iteritems():\n",
    "        words = row.split()\n",
    "        wordCount.append(len(words))\n",
    "\n",
    "    #Converting to np array\n",
    "    wordCount = np.asarray(wordCount)\n",
    "    \n",
    "    #Determining average number of words per comment\n",
    "    avg = wordCount.sum()/len(comments)\n",
    "    print(\"Average words in a comment: \",avg)\n",
    "\n",
    "    # Creating the graph\n",
    "    fig, axs = plt.subplots(1, 1,figsize=(10, 7),tight_layout=True)\n",
    "    n, bins, patches = axs.hist(x=wordCount, bins='auto')\n",
    "    \n",
    "    #Labels and titles\n",
    "    plt.xlabel('Number of Words')\n",
    "    plt.ylabel('Number of Comments')\n",
    "    plt.title('Number of Words in a Comment in '+str(year))\n",
    "    \n",
    "    # Show plot\n",
    "    plt.show()"
   ]
  },
  {
   "cell_type": "code",
   "execution_count": 20,
   "id": "da8b4d9a",
   "metadata": {},
   "outputs": [
    {
     "name": "stdout",
     "output_type": "stream",
     "text": [
      "Average number of comments:  25.734344811910443\n",
      "Average words in a comment:  59.70581828144525\n"
     ]
    },
    {
     "data": {
      "image/png": "[encoded data removed]",
      "text/plain": [
       "<Figure size 720x504 with 1 Axes>"
      ]
     },
     "metadata": {
      "needs_background": "light"
     },
     "output_type": "display_data"
    }
   ],
   "source": [
    "print(\"Average number of comments: \",commentAverage('2018_posts.csv'))\n",
    "commentHistogram('2018_comments.csv',2018)"
   ]
  },
  {
   "cell_type": "code",
   "execution_count": 23,
   "id": "7d6b9418",
   "metadata": {},
   "outputs": [
    {
     "name": "stdout",
     "output_type": "stream",
     "text": [
      "Average number of comments:  40.48451930742656\n"
     ]
    }
   ],
   "source": [
    "print(\"Average number of comments: \",commentAverage('2019_posts.csv'))\n",
    "#commentHistogram('2019_comments_partial.csv',2019)"
   ]
  },
  {
   "cell_type": "code",
   "execution_count": null,
   "id": "d99f1c48",
   "metadata": {},
   "outputs": [],
   "source": []
  }
 ],
 "metadata": {
  "kernelspec": {
   "display_name": "Python 3",
   "language": "python",
   "name": "python3"
  },
  "language_info": {
   "codemirror_mode": {
    "name": "ipython",
    "version": 3
   },
   "file_extension": ".py",
   "mimetype": "text/x-python",
   "name": "python",
   "nbconvert_exporter": "python",
   "pygments_lexer": "ipython3",
   "version": "3.8.8"
  }
 },
 "nbformat": 4,
 "nbformat_minor": 5
}
